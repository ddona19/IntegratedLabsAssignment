{
 "cells": [
  {
   "cell_type": "markdown",
   "id": "40f92159-3007-4c14-a41e-ddf26fa777cc",
   "metadata": {},
   "source": [
    "# **INTEGRATED LAB ASSIGNMENT**"
   ]
  },
  {
   "cell_type": "markdown",
   "id": "be741237-ef95-481a-9106-c2c57c2aba1c",
   "metadata": {},
   "source": [
    "***\n",
    "## **BOOK SCRAPPER**"
   ]
  },
  {
   "cell_type": "markdown",
   "id": "bbeab186-274d-47d3-9c6e-918027468e29",
   "metadata": {},
   "source": [
    "This project will: <br>\n",
    ">-Scrap data from a book website (OpenLibrary in this case) <br>\n",
    ">-Then use the OpenLibrary API in order to ggenerate more data about the titles scrapped <br>\n",
    ">-All the data collected will be encrypted and stored as a csv file"
   ]
  },
  {
   "cell_type": "code",
   "execution_count": 10,
   "id": "38c80363-b446-4a2d-acf5-63128037446c",
   "metadata": {},
   "outputs": [],
   "source": [
    "#Libraries that will be used in this assignment \n",
    "from bs4 import BeautifulSoup\n",
    "import requests\n",
    "import requests\n",
    "import csv\n",
    "from urllib.parse import quote"
   ]
  },
  {
   "cell_type": "code",
   "execution_count": 11,
   "id": "7524c4ad-ece0-4251-ad12-bbfe6a102d88",
   "metadata": {},
   "outputs": [],
   "source": [
    "#This cell takes the url link for the website I'm scraping, a page in OPen Library for this example\n",
    "#The request library is used to grab this as a link then we use BeautifulSoup to scrape the data\n",
    "url = 'https://openlibrary.org/search?subject=Fantasy'\n",
    "result = requests.get(url)\n",
    "doc = BeautifulSoup(result.text, \"html.parser\")"
   ]
  },
  {
   "cell_type": "code",
   "execution_count": 12,
   "id": "d98adef6-8274-4a6e-8702-5bf5d6d896db",
   "metadata": {
    "scrolled": true
   },
   "outputs": [
    {
     "name": "stdout",
     "output_type": "stream",
     "text": [
      "['Phantastes: A Faerie Romance for Men and Women', 'The  Road to Oz', 'The Silmarillion', 'Lilith: A Romance', 'Ozma of Oz: a record of her adventures with Dorothy Gale of Kansas, the Yellow Hen, the Scarecrow, the Tin Woodman, Tiktok, the cowardly Lion and the Hungry Tiger, besides other good people too numerous to mention faithfully recorded herein', 'The Last Battle', 'The story of Doctor Dolittle: being the history of his peculiar life at home and astonishing adventuresin foreign parts, never before printed', \"Grimm's fairy tales\", 'The Silver Chair', 'The King in Yellow', 'The Hobbit', 'Momo', 'The Lion, the Witch and the Wardrobe', 'Prince Caspian', 'The Fellowship of Ring', 'The Land of Oz: A sequel to The Wizard of Oz', 'The Enchanted Castle', 'The two towers', 'The Horse and his Boy', \"The Magician's Nephew\"]\n"
     ]
    }
   ],
   "source": [
    "#This cell will select only the titles of the books present\n",
    "def formatNicely(doc):\n",
    "    books = []\n",
    "    # Loop through the found 'a' elements with the class 'results'\n",
    "    for ctrl in range(len(doc)):\n",
    "        stringBooks = doc[ctrl].string  # Extract the text content (book title)\n",
    "        if stringBooks:  # Make sure the string is not None\n",
    "            books.append(stringBooks.strip())  # Add the book title to the list\n",
    "    return books\n",
    "\n",
    "books = doc.find_all('a', class_='results')\n",
    "book_titles = formatNicely(books)\n",
    "\n",
    "print(book_titles)"
   ]
  },
  {
   "cell_type": "code",
   "execution_count": null,
   "id": "7e675908-1029-4680-9378-7b6d9e210f19",
   "metadata": {},
   "outputs": [
    {
     "name": "stdout",
     "output_type": "stream",
     "text": [
      "Title: Phantastes\n",
      "Author(s): George MacDonald\n",
      "First published: 1850\n",
      "Average Rating: 3.9\n",
      "Number of Pages: 197\n",
      "----------------------------------------\n",
      "============================================================\n",
      "Title: The Road to Oz\n",
      "Author(s): L. Frank Baum, Jenny S.anchez, John R. Neill\n",
      "First published: 1909\n",
      "Average Rating: 3.3\n",
      "Number of Pages: 166\n",
      "----------------------------------------\n",
      "============================================================\n",
      "Title: The Silmarillion\n",
      "Author(s): J.R.R. Tolkien\n",
      "First published: 1977\n",
      "Average Rating: 4.0\n",
      "Number of Pages: 432\n",
      "----------------------------------------\n",
      "============================================================\n",
      "Title: Lilith\n",
      "Author(s): George MacDonald\n",
      "First published: 1895\n",
      "Average Rating: 3.0\n",
      "Number of Pages: 288\n",
      "----------------------------------------\n",
      "============================================================\n",
      "Title: Ozma of Oz\n",
      "Author(s): L. Frank Baum, Erin Yuen, Taylor Anderson, John R. Neill, Alexa RACHAEL\n",
      "First published: 1907\n",
      "Average Rating: 4.0\n",
      "Number of Pages: 163\n",
      "----------------------------------------\n",
      "============================================================\n",
      "Title: The Last Battle\n",
      "Author(s): C.S. Lewis\n",
      "First published: 1956\n",
      "Average Rating: 3.9\n",
      "Number of Pages: 192\n",
      "----------------------------------------\n",
      "============================================================\n",
      "Title: The Story of Doctor Dolittle\n",
      "Author(s): Hugh Lofting\n",
      "First published: 1920\n",
      "Average Rating: 3.3\n",
      "Number of Pages: 156\n",
      "----------------------------------------\n",
      "============================================================\n",
      "Title: Kinder- und Hausmärchen\n",
      "Author(s): Brothers Grimm\n",
      "First published: 1812\n",
      "Average Rating: 4.5\n",
      "Number of Pages: 304\n",
      "----------------------------------------\n",
      "============================================================\n",
      "Title: The Silver Chair\n",
      "Author(s): C.S. Lewis\n",
      "First published: 1953\n",
      "Average Rating: 4.0\n",
      "Number of Pages: 217\n",
      "----------------------------------------\n",
      "============================================================\n",
      "Title: The King in Yellow\n",
      "Author(s): Robert W. Chambers\n",
      "First published: 1895\n",
      "Average Rating: 4.1\n",
      "Number of Pages: 239\n",
      "----------------------------------------\n",
      "============================================================\n",
      "Title: The Hobbit\n",
      "Author(s): J.R.R. Tolkien\n",
      "First published: 1937\n",
      "Average Rating: 4.3\n",
      "Number of Pages: 310\n",
      "----------------------------------------\n",
      "============================================================\n",
      "Title: Momo oder Die seltsame Geschichte von den Zeit-Dieben und von dem Kind, das den Menschen die gestohlene Zeit zurückbrachte\n",
      "Author(s): Michael Ende\n",
      "First published: 1973\n",
      "Average Rating: 4.5\n",
      "Number of Pages: 269\n",
      "----------------------------------------\n",
      "============================================================\n",
      "Title: The Lion, the Witch and the Wardrobe\n",
      "Author(s): C.S. Lewis\n",
      "First published: 1950\n",
      "Average Rating: 4.1\n",
      "Number of Pages: 186\n",
      "----------------------------------------\n",
      "============================================================\n",
      "Title: Prince Caspian\n",
      "Author(s): C.S. Lewis\n",
      "First published: 1951\n",
      "Average Rating: 4.0\n",
      "Number of Pages: 216\n",
      "----------------------------------------\n",
      "============================================================\n",
      "Title: The fellowship of the ring\n",
      "Author(s): J.R.R. Tolkien\n",
      "First published: 1954\n",
      "Average Rating: 4.4\n",
      "Number of Pages: 498\n",
      "----------------------------------------\n",
      "============================================================\n",
      "Title: The Land of Oz\n",
      "Author(s): L. Frank Baum\n",
      "First published: 1904\n",
      "Average Rating: N/A\n",
      "Number of Pages: N/A\n",
      "----------------------------------------\n",
      "============================================================\n",
      "Title: The Enchanted Castle\n",
      "Author(s): Edith Nesbit\n",
      "First published: 1907\n",
      "Average Rating: 4.1\n",
      "Number of Pages: 186\n",
      "----------------------------------------\n",
      "============================================================\n",
      "Title: The Two Towers\n",
      "Author(s): J.R.R. Tolkien\n",
      "First published: 1954\n",
      "Average Rating: 4.4\n",
      "Number of Pages: 436\n",
      "----------------------------------------\n",
      "============================================================\n"
     ]
    }
   ],
   "source": [
    "# Path to the CSV file\n",
    "csv_file_path = \"books.csv\"\n",
    "\n",
    "# Open the CSV file in write mode to clear its contents and write the header\n",
    "with open(csv_file_path, 'w', newline='', encoding='utf-8') as csv_file:\n",
    "    csv_writer = csv.writer(csv_file)\n",
    "    # Write the header row\n",
    "    csv_writer.writerow([\"Title\", \"Author(s)\", \"First Published\", \"Average Rating\", \"Number of Pages\"])\n",
    "\n",
    "    # Function to search for books by title and write results to CSV\n",
    "    def search_books_by_title(title, csv_writer):\n",
    "        # Construct the URL for the Open Library search API, encoding the title for URL safety\n",
    "        url = f\"https://openlibrary.org/search.json?q={quote(title)}\"\n",
    "        \n",
    "        # Send a GET request to the Open Library API\n",
    "        response = requests.get(url)\n",
    "        \n",
    "        # If the request was successful\n",
    "        if response.status_code == 200:\n",
    "            data = response.json()  # Get the JSON data from the response\n",
    "            \n",
    "            # Check if there are any books in the response\n",
    "            if 'docs' in data and len(data['docs']) > 0:\n",
    "                # Take the first result\n",
    "                book = data['docs'][0]\n",
    "                book_title = book.get('title', 'N/A')\n",
    "                author_name = ', '.join(book.get('author_name', ['Unknown Author']))\n",
    "                first_publish_year = book.get('first_publish_year', 'N/A')\n",
    "                ratings = book.get('ratings_average', 'N/A')\n",
    "                if isinstance(ratings, (float, int)):\n",
    "                    ratings = round(ratings, 1)\n",
    "                number_of_pages = book.get('number_of_pages_median', 'N/A')\n",
    "                \n",
    "                # Print the result\n",
    "                print(f\"Title: {book_title}\")\n",
    "                print(f\"Author(s): {author_name}\")\n",
    "                print(f\"First published: {first_publish_year}\")\n",
    "                print(f\"Average Rating: {ratings}\")\n",
    "                print(f\"Number of Pages: {number_of_pages}\")\n",
    "                print(\"-\" * 40)\n",
    "                \n",
    "                # Write the result to the CSV file\n",
    "                csv_writer.writerow([book_title, author_name, first_publish_year, ratings, number_of_pages])\n",
    "            else:\n",
    "                print(f\"No results found for '{title}'\")\n",
    "        else:\n",
    "            print(f\"Error fetching data for '{title}': {response.status_code}\")\n",
    "\n",
    "    # Loop through the list of book titles and search for each one\n",
    "    for title in book_titles:\n",
    "        search_books_by_title(title, csv_writer)\n",
    "        print(\"=\" * 60)  # Print a separator between book searches\n"
   ]
  },
  {
   "cell_type": "code",
   "execution_count": 5,
   "id": "5f794e70-4e7a-45b4-b533-fe595be48866",
   "metadata": {},
   "outputs": [
    {
     "name": "stdout",
     "output_type": "stream",
     "text": [
      "Requirement already satisfied: pycryptodome in c:\\python311\\lib\\site-packages (3.21.0)\n",
      "Note: you may need to restart the kernel to use updated packages.\n"
     ]
    },
    {
     "name": "stderr",
     "output_type": "stream",
     "text": [
      "\n",
      "[notice] A new release of pip is available: 23.1.2 -> 24.3.1\n",
      "[notice] To update, run: python.exe -m pip install --upgrade pip\n"
     ]
    }
   ],
   "source": [
    "pip install pycryptodome"
   ]
  },
  {
   "cell_type": "code",
   "execution_count": null,
   "id": "9e285741-7b3b-4689-b16f-475dae73c8f0",
   "metadata": {},
   "outputs": [],
   "source": [
    "#I used XOR encryption for this project\n",
    "def xor_encrypt_decrypt(file_path, key):\n",
    "    key_bytes = key.encode()  # Convert key to bytes\n",
    "\n",
    "    # Read the file's content\n",
    "    with open(file_path, \"rb\") as file:\n",
    "        file_data = file.read()\n",
    "\n",
    "    # XOR each byte of the file with the key\n",
    "    encrypted_data = bytearray()\n",
    "    for i, byte in enumerate(file_data):\n",
    "        encrypted_data.append(byte ^ key_bytes[i % len(key_bytes)])\n",
    "\n",
    "    # Write the encrypted (or decrypted) data back to the file\n",
    "    with open(file_path, \"wb\") as file:\n",
    "        file.write(encrypted_data)\n",
    "    print(f\"File '{file_path}' has been processed (encrypted/decrypted).\")\n",
    "\n",
    "# Example usage\n",
    "csv_file_path = \"books.csv\"\n",
    "encryption_key = \"simplekey123\"  # Use any string as the key (keep it safe!)\n",
    "\n",
    "# Encrypt the file\n",
    "xor_encrypt_decrypt(csv_file_path, encryption_key)"
   ]
  },
  {
   "cell_type": "code",
   "execution_count": null,
   "id": "425c58c1-eb38-4f3d-80f0-646626ccec6f",
   "metadata": {},
   "outputs": [],
   "source": []
  }
 ],
 "metadata": {
  "kernelspec": {
   "display_name": "Python 3 (ipykernel)",
   "language": "python",
   "name": "python3"
  },
  "language_info": {
   "codemirror_mode": {
    "name": "ipython",
    "version": 3
   },
   "file_extension": ".py",
   "mimetype": "text/x-python",
   "name": "python",
   "nbconvert_exporter": "python",
   "pygments_lexer": "ipython3",
   "version": "3.11.4"
  }
 },
 "nbformat": 4,
 "nbformat_minor": 5
}
